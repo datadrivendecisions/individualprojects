{
 "cells": [
  {
   "cell_type": "code",
   "execution_count": 4,
   "metadata": {},
   "outputs": [],
   "source": [
    "import json\n",
    "from operator import itemgetter\n",
    "\n",
    "def sort_projects_by_category():\n",
    "    with open('projects.json', 'r') as f:\n",
    "        projects = json.load(f)\n",
    "    sorted_projects = sorted(projects, key=lambda x: (x['category'], x['title']))\n",
    "    # Write the sorted projects back to the file\n",
    "    with open('projects.json', 'w') as f:\n",
    "        json.dump(sorted_projects, f, indent=4)  # indent\n",
    "\n",
    "sort_projects_by_category()\n"
   ]
  }
 ],
 "metadata": {
  "kernelspec": {
   "display_name": "Python 3",
   "language": "python",
   "name": "python3"
  },
  "language_info": {
   "codemirror_mode": {
    "name": "ipython",
    "version": 3
   },
   "file_extension": ".py",
   "mimetype": "text/x-python",
   "name": "python",
   "nbconvert_exporter": "python",
   "pygments_lexer": "ipython3",
   "version": "3.12.2"
  }
 },
 "nbformat": 4,
 "nbformat_minor": 2
}
