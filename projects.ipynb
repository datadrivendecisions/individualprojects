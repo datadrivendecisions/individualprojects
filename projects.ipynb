{
 "cells": [
  {
   "cell_type": "code",
   "execution_count": null,
   "metadata": {},
   "outputs": [],
   "source": [
    "import json\n",
    "import csv"
   ]
  },
  {
   "cell_type": "code",
   "execution_count": 2,
   "metadata": {},
   "outputs": [],
   "source": [
    "def sort_projects_by_category():\n",
    "    with open('projects.json', 'r') as f:\n",
    "        projects = json.load(f)\n",
    "    sorted_projects = sorted(projects, key=lambda x: (x['category'], x['title']))\n",
    "    # Write the sorted projects back to the file\n",
    "    with open('projects.json', 'w') as f:\n",
    "        json.dump(sorted_projects, f, indent=4)  # indent\n",
    "\n",
    "sort_projects_by_category()\n"
   ]
  },
  {
   "cell_type": "code",
   "execution_count": 3,
   "metadata": {},
   "outputs": [],
   "source": [
    "\n",
    "def csv_to_json(csv_filepath, json_filepath):\n",
    "    \"\"\"\n",
    "    Convert a CSV file to a JSON file.\n",
    "\n",
    "    Parameters:\n",
    "        csv_filepath (str): The path to the input CSV file.\n",
    "        json_filepath (str): The path to the output JSON file.\n",
    "    \"\"\"\n",
    "    # Read the CSV and add data to a dictionary\n",
    "    data = []\n",
    "    with open(csv_filepath, mode='r', newline='', encoding='utf-8') as file:\n",
    "        csv_reader = csv.DictReader(file)\n",
    "        for row in csv_reader:\n",
    "            data.append(row)\n",
    "    \n",
    "    # Convert dictionary to JSON and write to file\n",
    "    with open(json_filepath, mode='w', encoding='utf-8') as json_file:\n",
    "        json_file.write(json.dumps(data, indent=4))\n",
    "\n",
    "# Example usage:\n",
    "csv_to_json('registration.csv', 'registration.json')\n"
   ]
  }
 ],
 "metadata": {
  "kernelspec": {
   "display_name": "Python 3",
   "language": "python",
   "name": "python3"
  },
  "language_info": {
   "codemirror_mode": {
    "name": "ipython",
    "version": 3
   },
   "file_extension": ".py",
   "mimetype": "text/x-python",
   "name": "python",
   "nbconvert_exporter": "python",
   "pygments_lexer": "ipython3",
   "version": "3.12.2"
  }
 },
 "nbformat": 4,
 "nbformat_minor": 2
}
