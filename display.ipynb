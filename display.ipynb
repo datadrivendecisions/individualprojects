{
 "cells": [
  {
   "cell_type": "code",
   "execution_count": 3,
   "metadata": {},
   "outputs": [
    {
     "name": "stdout",
     "output_type": "stream",
     "text": [
      "Enrique Iglesias - SUBEME LA RADIO (Official Video) ft. Descemer Bueno, Zion & Lennox - YouTube\n"
     ]
    }
   ],
   "source": [
    "def yt_reader(url):\n",
    "    r = requests.get(url)\n",
    "    soup = BeautifulSoup(r.text)\n",
    "\n",
    "    link = soup.find_all(name=\"title\")[0]\n",
    "    title = link.text\n",
    "    title = title.replace(\"<title>\",\"\")\n",
    "    title = title.replace(\"</title>\",\"\")\n",
    "\n",
    "    return title\n",
    "\n",
    "url = \"https://www.youtube.com/watch?v=9sg-A-eS6Ig&list=RDBAkqJT_sMKQ&index=5\"\n",
    "title = yt_reader(url)\n",
    "\n",
    "print(title)"
   ]
  },
  {
   "cell_type": "code",
   "execution_count": 7,
   "metadata": {},
   "outputs": [
    {
     "name": "stdout",
     "output_type": "stream",
     "text": [
      "Creating AI Powered Apps with No Code in Frontly | Webinar Replay - YouTube\n",
      "Mr. Maeda's Cozy AI Kitchen: Secure Insights with Tracy Reinhold - YouTube\n",
      "Creating AI Powered Apps with No Code in Frontly | Webinar Replay - YouTube\n",
      "Login and Scrape Data with Playwright and Python - YouTube\n",
      "OpenAI Whisper and Python: Easy Speech to Text - YouTube\n",
      "AutoGen Studio Tutorial - NO CODE AI Agent Builder (100% Local) - YouTube\n",
      "Adding Agentic Layers to RAG - YouTube\n",
      "Taipy 2.3 Release - discover the new features through this webinar - YouTube\n",
      "Furkan M. Torun - Become a Data Storyteller with Streamlit!  [PyData Prague 2023-11-20] - YouTube\n",
      "Blackwood & Vidos - Creating Interactive, Animated Reports in Streamlit with Vizzu | PyData NYC 2023 - YouTube\n",
      "Pose Estimation with the Fastest Python Deep Learning Model | MoveNet Lightning - YouTube\n",
      "Make Your Own Visual Novel! | Ren'Py Tutorial Part 1 - YouTube\n",
      "Mr. Maeda's Cozy AI Kitchen: AI-Driven Design with Tim Allen - YouTube\n",
      "-\n",
      "How to Make a Game in Python - YouTube\n",
      "-\n",
      "Customer Segmentation Using K-Means Clustering | Machine Learning | GeeksforGeeks - YouTube\n",
      "-\n",
      "-\n",
      "Build an AI/ML Football Analysis system with YOLO, OpenCV, and Python - YouTube\n",
      "Using AI To Build A Game From Scratch (NO Experience) - YouTube\n",
      "Chat with Multiple PDFs | LangChain App Tutorial in Python (Free LLMs and Embeddings) - YouTube\n",
      "How to Make a Game in Python - YouTube\n",
      "How To Connect OpenAI To WhatsApp (Python Tutorial) - YouTube\n"
     ]
    }
   ],
   "source": [
    "import json\n",
    " \n",
    "# Opening JSON file\n",
    "f = open('display.json')\n",
    " \n",
    "# returns JSON object as \n",
    "# a dictionary\n",
    "data = json.load(f)\n",
    " \n",
    "# Iterating through the json\n",
    "# list\n",
    "for v in data:\n",
    "    try:\n",
    "        url = yt_reader(v['youtubeUrl'])\n",
    "        print(url)\n",
    "    except:\n",
    "        print(\"-\")\n",
    "# Closing file\n",
    "f.close()"
   ]
  }
 ],
 "metadata": {
  "kernelspec": {
   "display_name": "Python 3",
   "language": "python",
   "name": "python3"
  },
  "language_info": {
   "codemirror_mode": {
    "name": "ipython",
    "version": 3
   },
   "file_extension": ".py",
   "mimetype": "text/x-python",
   "name": "python",
   "nbconvert_exporter": "python",
   "pygments_lexer": "ipython3",
   "version": "3.12.2"
  }
 },
 "nbformat": 4,
 "nbformat_minor": 2
}
